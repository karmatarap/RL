{
 "cells": [
  {
   "cell_type": "markdown",
   "metadata": {},
   "source": [
    "## Name: Karma Tarap\n",
    "### CSCI E-89C Deep Reinforcement Learning  \n",
    "### Part II of Assignment 6"
   ]
  },
  {
   "cell_type": "markdown",
   "metadata": {},
   "source": [
    "## Problem 1 (10 points)"
   ]
  },
  {
   "cell_type": "markdown",
   "metadata": {},
   "source": [
    "Consider Environment that has five states: 1, 2, 3, 4, and 5. Possible transitions are: (1) 1->1, 1->2; (2) 2->1, 2->2, 2->3; (3) 3->2, 3->3, 3->4; (4) 4->3, 4->4, 4->5; (5) 5->4, 5->5.\n",
    "\n",
    "Actions of the Agent are decoded by -1, 0, and +1, which correspond to its intention to move left, stay, and move right, respectively. The Environment, however, does not always respond to these intentions exactly, and there is 10% chance that action 0 will result in moving to the left (if moving to the left is admissible), and +1 action will result in staying - in other words, there is an \"east wind.\" More specifically, the non-zero transition probabilities $p(s^\\prime,r|s,a)$ are<br>\n",
    "\n",
    "$p(s^\\prime=1,r=0|s=1,a=0)=1$,<br>\n",
    "$p(s^\\prime=1,r=0|s=1,a=+1)=0.1,p(s^\\prime=2,r=0|s=1,a=+1)=0.9$,<br>\n",
    "\n",
    "$p(s^\\prime=1,r=0|s=2,a=-1)=1$,<br>\n",
    "$p(s^\\prime=1,r=0|s=2,a=0)=0.1,p(s^\\prime=2,r=0|s=2,a=0)=0.9$,<br>\n",
    "$p(s^\\prime=2,r=0|s=2,a=+1)=0.1,p(s^\\prime=3,r=1|s=2,a=+1)=0.9$,<br>\n",
    "\n",
    "$p(s^\\prime=2,r=0|s=3,a=-1)=1$,<br>\n",
    "$p(s^\\prime=2,r=0|s=3,a=0)=0.1,p(s^\\prime=3,r=1|s=3,a=0)=0.9$,<br>\n",
    "$p(s^\\prime=3,r=1|s=3,a=+1)=0.1,p(s^\\prime=4,r=0|s=3,a=+1)=0.9$,<br>\n",
    "\n",
    "etc.\n",
    "\n",
    "Further, we assume that whenever the process enters state 3, the Environment generates reward = 1. In all other cases the reward is 0. For example, transition 2->3 will result in reward 1, transition 3->3 will result in reward 1, transition 3->2 will result in reward 0, transition 2->2 will result in reward 0, etc.\n",
    "\n",
    "\n",
    "\n",
    "Further, assume that the agent does not know about the wind or what rewards to expect. It chooses to stay in all states, i.e. the policy is\n",
    "$\\pi(-1|1)=0, \\pi(0|1)=1, \\pi(+1|1)=0$,<br>\n",
    "$\\pi(-1|2)=0, \\pi(0|2)=1, \\pi(+1|2)=0$,<br>\n",
    "$\\pi(-1|3)=0, \\pi(0|3)=1, \\pi(+1|3)=0$,<br>\n",
    "$\\pi(-1|4)=0, \\pi(0|4)=1, \\pi(+1|4)=0$,<br>\n",
    "etc.\n",
    "\n",
    "Please estimate the state-value function using one-step Temporal Difference (TD) prediction. Let’s use $\\gamma=0.9$ and run the episodes for $T=100$.\n"
   ]
  },
  {
   "cell_type": "code",
   "execution_count": 1,
   "metadata": {},
   "outputs": [],
   "source": [
    "import random\n",
    "from matplotlib import pyplot as plt \n",
    "import numpy as np\n",
    "\n",
    "class Environment:\n",
    "    def __init__(self, S0 = 1):\n",
    "        self.time = 0\n",
    "        self.state = S0\n",
    "\n",
    "    def admissible_actions(self):\n",
    "        A = list((-1,0,1))\n",
    "        if self.state == 1: A.remove(-1)\n",
    "        if self.state == 5: A.remove(1)\n",
    "        return A\n",
    "    \n",
    "    def check_state(self):\n",
    "        return self.state\n",
    "\n",
    "    def get_reward(self, action):\n",
    "        self.time += 1\n",
    "        move = action\n",
    "        if self.state > 1 and move > -1:\n",
    "            move = np.random.choice([move-1, move],p=[0.1,0.9])\n",
    "        self.state += move\n",
    "        if self.state == 3:\n",
    "            reward = 1\n",
    "        else:\n",
    "            reward = 0\n",
    "        return reward"
   ]
  },
  {
   "cell_type": "code",
   "execution_count": 2,
   "metadata": {},
   "outputs": [],
   "source": [
    "class Agent:\n",
    "    def __init__(self, A0=0):\n",
    "        self.current_reward = 0.0\n",
    "        self.current_action = A0\n",
    "\n",
    "\n",
    "    def step(self, env):\n",
    "        #actions = env.admissible_actions()\n",
    "        action_selected = 0\n",
    "        if env.time == 0:\n",
    "            action_selected = self.current_action\n",
    "        reward = env.get_reward(action_selected)            \n",
    "        self.current_action = action_selected \n",
    "        self.current_reward = reward"
   ]
  },
  {
   "cell_type": "code",
   "execution_count": 3,
   "metadata": {},
   "outputs": [
    {
     "name": "stdout",
     "output_type": "stream",
     "text": [
      "from state 5 took action 0 got reward 0\n",
      "from state 5 took action 0 got reward 0\n",
      "from state 5 took action 0 got reward 0\n",
      "from state 5 took action 0 got reward 0\n",
      "from state 5 took action 0 got reward 0\n",
      "from state 5 took action 0 got reward 0\n",
      "from state 5 took action 0 got reward 0\n",
      "from state 5 took action 0 got reward 0\n",
      "from state 5 took action 0 got reward 0\n",
      "from state 4 took action 0 got reward 0\n",
      "from state 4 took action 0 got reward 0\n",
      "from state 4 took action 0 got reward 0\n",
      "from state 4 took action 0 got reward 0\n",
      "from state 4 took action 0 got reward 0\n",
      "from state 4 took action 0 got reward 0\n",
      "from state 4 took action 0 got reward 0\n",
      "from state 4 took action 0 got reward 0\n",
      "from state 4 took action 0 got reward 0\n",
      "from state 4 took action 0 got reward 1\n",
      "from state 3 took action 0 got reward 1\n",
      "from state 3 took action 0 got reward 0\n",
      "from state 2 took action 0 got reward 0\n",
      "from state 2 took action 0 got reward 0\n",
      "from state 2 took action 0 got reward 0\n",
      "from state 2 took action 0 got reward 0\n",
      "from state 2 took action 0 got reward 0\n",
      "from state 2 took action 0 got reward 0\n"
     ]
    },
    {
     "data": {
      "text/plain": [
       "array([0.        , 0.        , 4.66438113, 2.76586244, 1.23630869])"
      ]
     },
     "execution_count": 3,
     "metadata": {},
     "output_type": "execute_result"
    }
   ],
   "source": [
    "def td_zero(gamma=0.9, T=100, alpha=.001, N=10000):\n",
    "    \"\"\"TD(0) Algorithm implementation\n",
    "    Args:\n",
    "        gamma (int): discount value\n",
    "        T (int): max length of episodes\n",
    "        alpha (float): step size\n",
    "        N (int): number of episodes\n",
    "        \n",
    "    Returns:\n",
    "        V (numpy array): State Values\n",
    "        hist (list): History of State Values for plotting\n",
    "    \"\"\"\n",
    "    V = np.zeros(5)\n",
    "    hist = [list() for i in range(5)]\n",
    "\n",
    "    for i in range(N):\n",
    "        S0 = np.random.randint(low=1, high=6, size=1)[0]\n",
    "        env = Environment(S0)\n",
    "        A0 = 0\n",
    "        agent = Agent(A0)\n",
    "\n",
    "        for _ in range(T):\n",
    "            prev_state = env.state\n",
    "            agent.step(env)\n",
    "            if i == 1:\n",
    "                print(\"from state\",prev_state, \"took action\", agent.current_action, \"got reward\", agent.current_reward)\n",
    "            V[prev_state-1] += alpha * (agent.current_reward + gamma * V[env.state-1] - V[prev_state-1])\n",
    "            \n",
    "            #Under our policy state 1 is terminal so no point continuing as further reward is not possible\n",
    "            if env.state == 1:\n",
    "                break\n",
    "                \n",
    "            hist[prev_state-1].append(V[prev_state-1])\n",
    "    return V, hist\n",
    "\n",
    "V, hist = td_zero()\n",
    "V"
   ]
  },
  {
   "cell_type": "code",
   "execution_count": 4,
   "metadata": {},
   "outputs": [
    {
     "data": {
      "image/png": "[encoded data removed]",
      "text/plain": [
       "<Figure size 1152x288 with 1 Axes>"
      ]
     },
     "metadata": {
      "needs_background": "light"
     },
     "output_type": "display_data"
    }
   ],
   "source": [
    "# Visual check for convergence\n",
    "plt.figure(figsize=(16,4))\n",
    "plt.xlabel(\"Number of updates\")\n",
    "plt.ylabel(\"$v_\\pi(s)$\")\n",
    "plt.title('Dependence of state-values $v_\\pi(s)$ on number of updates')\n",
    "for i in range(5):\n",
    "    plt.plot(hist[i], label=f'state {i+1}')\n",
    "plt.legend()\n",
    "plt.show()"
   ]
  },
  {
   "cell_type": "markdown",
   "metadata": {},
   "source": [
    "## Problem 2 (10 points)"
   ]
  },
  {
   "cell_type": "markdown",
   "metadata": {},
   "source": [
    "In this problem, the agent will obtain the optimal policy via Double Q-learning. Please run the Double Q-learning algorithm - make sure to generate each pair $(S_t,A_t)$ using $\\varepsilon$-soft policy with respect to curret action-value function $(Q_1+Q_2)/2$. Use same $\\gamma=0.9$ and $T=100$.\n",
    "\n",
    "Does the final policy appear to be optimal?"
   ]
  },
  {
   "cell_type": "code",
   "execution_count": 5,
   "metadata": {},
   "outputs": [],
   "source": [
    "class Agent:\n",
    "    def __init__(self, A0=0):\n",
    "        self.current_reward = 0.0\n",
    "        self.current_action = A0\n",
    "\n",
    "    def step(self, env, action):\n",
    "        action_selected = action\n",
    "        if env.time == 0:\n",
    "            action_selected = self.current_action\n",
    "        reward = env.get_reward(action_selected)            \n",
    "        self.current_action = action_selected \n",
    "        self.current_reward = reward"
   ]
  },
  {
   "cell_type": "code",
   "execution_count": 6,
   "metadata": {},
   "outputs": [],
   "source": [
    "from collections import defaultdict\n",
    "\n",
    "def argmax(q_values, admissable):\n",
    "    \"\"\"argmax with random tie-breaking (np.argmax always takes the first)\n",
    "       Also allow for ignoring an index\n",
    "    Args:\n",
    "        q_values (Numpy array): the array of action-values\n",
    "    Returns:\n",
    "        action (int): an action with the highest value\n",
    "    \"\"\"\n",
    "    top = float(\"-inf\")\n",
    "    ties = []\n",
    "\n",
    "    for i in range(len(q_values)):\n",
    "        if i in admissable:\n",
    "            if q_values[i] > top:\n",
    "                top = q_values[i]\n",
    "                ties = []\n",
    "\n",
    "            if q_values[i] == top:\n",
    "                ties.append(i)\n",
    "\n",
    "    return np.random.choice(ties)\n",
    "\n",
    "\n",
    "def epsilon_greedy(Q, actions, epsilon = 0.05):\n",
    "    \"\"\" Epsilon greedy implementation that supports permissible actions\n",
    "    Args:\n",
    "        Q (numpy array): State-Action values for a state\n",
    "        actions (list): permissible actions for given state\n",
    "        epsilon: probability for exploration\n",
    "    Returns:\n",
    "        action(int): next action \n",
    "    \"\"\"\n",
    "    if random.random() > epsilon:\n",
    "        return argmax(Q, actions)\n",
    "    return np.random.choice(actions)\n",
    "\n",
    "    \n",
    "def avg_q(state, q1, q2):\n",
    "    \"\"\" Average state action values for given action\n",
    "    Args:\n",
    "        state (int): current state\n",
    "        q1 (numpy array): state action values under Q1\n",
    "        q2 (numpy array): state action values under Q2\n",
    "    Returns:\n",
    "        Average Q (numpy array)\n",
    "    \"\"\"\n",
    "    return (q1[state] + q2[state])/2\n",
    "    \n",
    "    \n",
    "gamma = 0.9\n",
    "T = 100\n",
    "alpha = .01\n",
    "\n",
    "Q1 = np.zeros((5, 3))\n",
    "Q2 = np.zeros((5, 3))\n",
    "\n",
    "hist = defaultdict(lambda:defaultdict(list))\n",
    "\n",
    "for i in range(10000):\n",
    "    S0 = np.random.randint(low=1, high=6, size=1)[0]\n",
    "    env = Environment(S0)\n",
    "    A0 = np.random.choice(env.admissible_actions())\n",
    "    agent = Agent(A0)\n",
    "    \n",
    "    for _ in range(T):\n",
    "        prev_state = env.state\n",
    "        temp_q = avg_q(prev_state-1, Q1, Q2)\n",
    "        actions = [a+1 for a in env.admissible_actions()]\n",
    "\n",
    "        action = epsilon_greedy(temp_q, actions)\n",
    "        agent.step(env, action-1)\n",
    "\n",
    "        if random.random() > 0.5:\n",
    "            Q1[prev_state-1, agent.current_action+1] += alpha * (agent.current_reward + gamma * Q2[env.state-1][argmax(Q1[env.state-1], actions)] - Q1[prev_state-1, agent.current_action+1]) \n",
    "        else:\n",
    "            Q2[prev_state-1, agent.current_action+1] += alpha * (agent.current_reward + gamma * Q1[env.state-1][argmax(Q2[env.state-1], actions)] - Q2[prev_state-1, agent.current_action+1]) \n",
    "        \n",
    "    hist[prev_state][agent.current_action].append(avg_q(prev_state-1, Q1, Q2))"
   ]
  },
  {
   "cell_type": "code",
   "execution_count": 7,
   "metadata": {},
   "outputs": [
    {
     "data": {
      "image/png": "[encoded data removed]",
      "text/plain": [
       "<Figure size 1152x288 with 1 Axes>"
      ]
     },
     "metadata": {
      "needs_background": "light"
     },
     "output_type": "display_data"
    }
   ],
   "source": [
    "# Visual check for convergence\n",
    "plt.figure(figsize=(16,4))\n",
    "plt.xlabel(\"Number of updates\")\n",
    "plt.ylabel(\"$q_*(s)$\")\n",
    "plt.title('Dependence of state-action-values $q_*(s)$ on number of updates')\n",
    "for i in range(1,6):\n",
    "    for j in range(-1,2):\n",
    "        plt.plot(hist[i][j])\n",
    "\n",
    "plt.show()"
   ]
  },
  {
   "cell_type": "code",
   "execution_count": 8,
   "metadata": {},
   "outputs": [
    {
     "data": {
      "text/plain": [
       "array([[0.        , 7.25650354, 8.09803609],\n",
       "       [7.29021462, 8.02061287, 8.98729126],\n",
       "       [8.09446507, 8.99758502, 8.27672061],\n",
       "       [9.09762704, 8.17703754, 7.31356303],\n",
       "       [8.19612484, 7.37637964, 0.        ]])"
      ]
     },
     "execution_count": 8,
     "metadata": {},
     "output_type": "execute_result"
    }
   ],
   "source": [
    "Q_star = (Q1+ Q2)/2\n",
    "Q_star"
   ]
  },
  {
   "cell_type": "code",
   "execution_count": 9,
   "metadata": {},
   "outputs": [
    {
     "data": {
      "text/plain": [
       "array([2, 2, 1, 0, 0])"
      ]
     },
     "execution_count": 9,
     "metadata": {},
     "output_type": "execute_result"
    }
   ],
   "source": [
    "np.argmax(Q_star, axis=1)"
   ]
  },
  {
   "cell_type": "markdown",
   "metadata": {},
   "source": [
    "The final policy is the optimal policy as we should move right in states less than 3 and move left in states greater than 3. In state 3 we should aim to stay."
   ]
  },
  {
   "cell_type": "markdown",
   "metadata": {},
   "source": [
    "## Part 1 double checks"
   ]
  },
  {
   "cell_type": "code",
   "execution_count": null,
   "metadata": {},
   "outputs": [],
   "source": [
    "episode = ((0,20),(1,30),(1,20),(1,10),(2,130))"
   ]
  },
  {
   "cell_type": "code",
   "execution_count": 14,
   "metadata": {},
   "outputs": [
    {
     "data": {
      "text/plain": [
       "array([[0., 0., 0., 0., 0., 0.],\n",
       "       [0., 0., 0., 0., 0., 0.],\n",
       "       [0., 0., 0., 0., 0., 0.]])"
      ]
     },
     "execution_count": 14,
     "metadata": {},
     "output_type": "execute_result"
    }
   ],
   "source": [
    "table = np.zeros((3,6))\n",
    "table"
   ]
  },
  {
   "cell_type": "code",
   "execution_count": 15,
   "metadata": {},
   "outputs": [
    {
     "data": {
      "text/plain": [
       "array([[ 0.  ,  2.  ,  2.  ,  2.  ,  2.  ,  2.  ],\n",
       "       [ 0.  ,  0.  ,  3.  ,  4.7 ,  5.23,  5.23],\n",
       "       [ 0.  ,  0.  ,  0.  ,  0.  ,  0.  , 13.  ]])"
      ]
     },
     "execution_count": 15,
     "metadata": {},
     "output_type": "execute_result"
    }
   ],
   "source": [
    "for t, v in enumerate(episode):\n",
    "    s, r = v\n",
    "    tp = t+1\n",
    "    for state in range(3):\n",
    "        if state == s:\n",
    "            table[state, tp] = table[state, tp-1] + 0.1 *( r- table[state, tp-1])\n",
    "        else:\n",
    "            table[state, tp] = table[state, tp-1]\n",
    "\n",
    "table\n",
    "    "
   ]
  },
  {
   "cell_type": "code",
   "execution_count": 19,
   "metadata": {},
   "outputs": [
    {
     "name": "stdout",
     "output_type": "stream",
     "text": [
      "20\n",
      "30\n",
      "XX\n",
      "30\n",
      "20\n",
      "XX\n",
      "20\n",
      "10\n",
      "XX\n",
      "10\n",
      "130\n",
      "XX\n"
     ]
    },
    {
     "data": {
      "text/plain": [
       "array([[ 0.   ,  0.   ,  4.7  ,  4.7  ,  4.7  ,  4.7  ],\n",
       "       [ 0.   ,  0.   ,  0.   ,  4.8  ,  7.22 , 19.198],\n",
       "       [ 0.   ,  0.   ,  0.   ,  0.   ,  0.   ,  0.   ]])"
      ]
     },
     "execution_count": 19,
     "metadata": {},
     "output_type": "execute_result"
    }
   ],
   "source": [
    "table = np.zeros((3,6))\n",
    "for t, v in enumerate(episode[:4]):\n",
    "    s, r = v\n",
    "    tp = t+2\n",
    "    for state in range(3):\n",
    "        if state == s:\n",
    "            table[state, tp] = table[state, tp-1] + 0.1 *( r+0.9*episode[t+1][1]- table[state, tp-1])\n",
    "        else:\n",
    "            table[state, tp] = table[state, tp-1]\n",
    "\n",
    "table"
   ]
  },
  {
   "cell_type": "code",
   "execution_count": null,
   "metadata": {},
   "outputs": [],
   "source": []
  }
 ],
 "metadata": {
  "anaconda-cloud": {},
  "kernelspec": {
   "display_name": "Python 3",
   "language": "python",
   "name": "python3"
  },
  "language_info": {
   "codemirror_mode": {
    "name": "ipython",
    "version": 3
   },
   "file_extension": ".py",
   "mimetype": "text/x-python",
   "name": "python",
   "nbconvert_exporter": "python",
   "pygments_lexer": "ipython3",
   "version": "3.7.5"
  }
 },
 "nbformat": 4,
 "nbformat_minor": 1
}
