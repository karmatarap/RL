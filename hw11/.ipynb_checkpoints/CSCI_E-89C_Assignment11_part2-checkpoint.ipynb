{
 "cells": [
  {
   "cell_type": "markdown",
   "metadata": {},
   "source": [
    "## Name: Karma Tarap\n",
    "### CSCI E-89C Deep Reinforcement Learning  \n",
    "### Part II of Assignment 11"
   ]
  },
  {
   "cell_type": "markdown",
   "metadata": {},
   "source": [
    "# Preface\n",
    "We first consider images of 10 types (handwritten digits from \"0\" to \"9\") and build a feedforward fully connected Deep Neural Network for classification of the images (the accuracy, in fact, can further be increased by adding convolutional layers).  \n",
    "\n",
    "Let's load libraries:"
   ]
  },
  {
   "cell_type": "code",
   "execution_count": 1,
   "metadata": {},
   "outputs": [
    {
     "name": "stderr",
     "output_type": "stream",
     "text": [
      "Using TensorFlow backend.\n"
     ]
    }
   ],
   "source": [
    "from keras.datasets import mnist\n",
    "from matplotlib import pyplot as plt \n",
    "import numpy as np\n",
    "import pandas as pd\n",
    "import time\n",
    "import pickle\n",
    "\n",
    "from keras import layers\n",
    "from keras import models\n",
    "from keras.layers import Dropout"
   ]
  },
  {
   "cell_type": "markdown",
   "metadata": {},
   "source": [
    "Next, we load the images:"
   ]
  },
  {
   "cell_type": "code",
   "execution_count": 2,
   "metadata": {},
   "outputs": [],
   "source": [
    "with open('handwritten_digits.pkl', 'rb') as f:\n",
    "    X_train, y_train, X_test, y_test = pickle.load(f)"
   ]
  },
  {
   "cell_type": "markdown",
   "metadata": {},
   "source": [
    "Here, 'X_train' and 'X_test' are the sets of 28x28 images; and 'y_train' and 'y_test' are the corresponding correct labels. For example, let's look at the first 18 images in 'X_train' dataset:"
   ]
  },
  {
   "cell_type": "code",
   "execution_count": 3,
   "metadata": {},
   "outputs": [
    {
     "data": {
      "image/png": "[encoded data removed]",
      "text/plain": [
       "<Figure size 1080x576 with 18 Axes>"
      ]
     },
     "metadata": {},
     "output_type": "display_data"
    }
   ],
   "source": [
    "fig = plt.figure(figsize=(15,8))\n",
    "for i in range(18):\n",
    "    plt.subplot(3,6,i+1)\n",
    "    plt.tight_layout()\n",
    "    plt.imshow(X_train[i], cmap='gray', interpolation='none')\n",
    "    plt.title(\"Label: {}\".format(y_train[i]),fontsize=16)\n",
    "    plt.xticks([])\n",
    "    plt.yticks([])\n",
    "plt.show()"
   ]
  },
  {
   "cell_type": "markdown",
   "metadata": {},
   "source": [
    "Let's reshape the images (we would not need to reshape in case of Convolutional Neural Network) which will be inputs to the Neural Network: "
   ]
  },
  {
   "cell_type": "code",
   "execution_count": 4,
   "metadata": {},
   "outputs": [],
   "source": [
    "X_train = X_train.reshape(60000, 784)\n",
    "X_test = X_test.reshape(10000, 784)\n",
    "X_train = X_train.astype('float32')\n",
    "X_test = X_test.astype('float32')"
   ]
  },
  {
   "cell_type": "markdown",
   "metadata": {},
   "source": [
    "Let's also rescale the inputs:"
   ]
  },
  {
   "cell_type": "code",
   "execution_count": 5,
   "metadata": {},
   "outputs": [],
   "source": [
    "X_train /= 255\n",
    "X_test /= 255"
   ]
  },
  {
   "cell_type": "markdown",
   "metadata": {},
   "source": [
    "Because we want to classify, let's create dummies for the output:"
   ]
  },
  {
   "cell_type": "code",
   "execution_count": 6,
   "metadata": {},
   "outputs": [],
   "source": [
    "y_train = pd.get_dummies(y_train)\n",
    "y_test = pd.get_dummies(y_test)"
   ]
  },
  {
   "cell_type": "code",
   "execution_count": 7,
   "metadata": {},
   "outputs": [
    {
     "data": {
      "text/html": [
       "<div>\n",
       "<style scoped>\n",
       "    .dataframe tbody tr th:only-of-type {\n",
       "        vertical-align: middle;\n",
       "    }\n",
       "\n",
       "    .dataframe tbody tr th {\n",
       "        vertical-align: top;\n",
       "    }\n",
       "\n",
       "    .dataframe thead th {\n",
       "        text-align: right;\n",
       "    }\n",
       "</style>\n",
       "<table border=\"1\" class=\"dataframe\">\n",
       "  <thead>\n",
       "    <tr style=\"text-align: right;\">\n",
       "      <th></th>\n",
       "      <th>0</th>\n",
       "      <th>1</th>\n",
       "      <th>2</th>\n",
       "      <th>3</th>\n",
       "      <th>4</th>\n",
       "      <th>5</th>\n",
       "      <th>6</th>\n",
       "      <th>7</th>\n",
       "      <th>8</th>\n",
       "      <th>9</th>\n",
       "    </tr>\n",
       "  </thead>\n",
       "  <tbody>\n",
       "    <tr>\n",
       "      <th>0</th>\n",
       "      <td>0</td>\n",
       "      <td>0</td>\n",
       "      <td>0</td>\n",
       "      <td>0</td>\n",
       "      <td>0</td>\n",
       "      <td>1</td>\n",
       "      <td>0</td>\n",
       "      <td>0</td>\n",
       "      <td>0</td>\n",
       "      <td>0</td>\n",
       "    </tr>\n",
       "    <tr>\n",
       "      <th>1</th>\n",
       "      <td>1</td>\n",
       "      <td>0</td>\n",
       "      <td>0</td>\n",
       "      <td>0</td>\n",
       "      <td>0</td>\n",
       "      <td>0</td>\n",
       "      <td>0</td>\n",
       "      <td>0</td>\n",
       "      <td>0</td>\n",
       "      <td>0</td>\n",
       "    </tr>\n",
       "    <tr>\n",
       "      <th>2</th>\n",
       "      <td>0</td>\n",
       "      <td>0</td>\n",
       "      <td>0</td>\n",
       "      <td>0</td>\n",
       "      <td>1</td>\n",
       "      <td>0</td>\n",
       "      <td>0</td>\n",
       "      <td>0</td>\n",
       "      <td>0</td>\n",
       "      <td>0</td>\n",
       "    </tr>\n",
       "  </tbody>\n",
       "</table>\n",
       "</div>"
      ],
      "text/plain": [
       "   0  1  2  3  4  5  6  7  8  9\n",
       "0  0  0  0  0  0  1  0  0  0  0\n",
       "1  1  0  0  0  0  0  0  0  0  0\n",
       "2  0  0  0  0  1  0  0  0  0  0"
      ]
     },
     "execution_count": 7,
     "metadata": {},
     "output_type": "execute_result"
    }
   ],
   "source": [
    "y_train.head(3)"
   ]
  },
  {
   "cell_type": "markdown",
   "metadata": {},
   "source": [
    "Let's now build a Neural Network and train it:"
   ]
  },
  {
   "cell_type": "code",
   "execution_count": 8,
   "metadata": {},
   "outputs": [
    {
     "name": "stdout",
     "output_type": "stream",
     "text": [
      "Model: \"sequential_1\"\n",
      "_________________________________________________________________\n",
      "Layer (type)                 Output Shape              Param #   \n",
      "=================================================================\n",
      "dense_1 (Dense)              (None, 512)               401920    \n",
      "_________________________________________________________________\n",
      "dropout_1 (Dropout)          (None, 512)               0         \n",
      "_________________________________________________________________\n",
      "dense_2 (Dense)              (None, 512)               262656    \n",
      "_________________________________________________________________\n",
      "dropout_2 (Dropout)          (None, 512)               0         \n",
      "_________________________________________________________________\n",
      "dense_3 (Dense)              (None, 10)                5130      \n",
      "=================================================================\n",
      "Total params: 669,706\n",
      "Trainable params: 669,706\n",
      "Non-trainable params: 0\n",
      "_________________________________________________________________\n"
     ]
    }
   ],
   "source": [
    "model = models.Sequential()\n",
    "model.add(layers.Dense(512, activation='relu', input_shape=(784,)))                          \n",
    "model.add(Dropout(0.2))\n",
    "model.add(layers.Dense(512, activation='relu'))\n",
    "model.add(Dropout(0.2))\n",
    "model.add(layers.Dense(10, activation='softmax'))\n",
    "          \n",
    "model.summary()"
   ]
  },
  {
   "cell_type": "code",
   "execution_count": 9,
   "metadata": {},
   "outputs": [
    {
     "name": "stdout",
     "output_type": "stream",
     "text": [
      "Train on 60000 samples, validate on 10000 samples\n",
      "Epoch 1/35\n",
      "60000/60000 [==============================] - 6s 94us/step - loss: 0.2493 - accuracy: 0.9250 - val_loss: 0.0966 - val_accuracy: 0.9692\n",
      "Epoch 2/35\n",
      "60000/60000 [==============================] - 5s 87us/step - loss: 0.1000 - accuracy: 0.9695 - val_loss: 0.0901 - val_accuracy: 0.9724\n",
      "Epoch 3/35\n",
      "60000/60000 [==============================] - 4s 74us/step - loss: 0.0708 - accuracy: 0.9777 - val_loss: 0.0661 - val_accuracy: 0.9790\n",
      "Epoch 4/35\n",
      "60000/60000 [==============================] - 4s 70us/step - loss: 0.0537 - accuracy: 0.9825 - val_loss: 0.0751 - val_accuracy: 0.9776\n",
      "Epoch 5/35\n",
      "60000/60000 [==============================] - 4s 72us/step - loss: 0.0453 - accuracy: 0.9853 - val_loss: 0.0719 - val_accuracy: 0.9779\n",
      "Epoch 6/35\n",
      "60000/60000 [==============================] - 4s 74us/step - loss: 0.0396 - accuracy: 0.9872 - val_loss: 0.0650 - val_accuracy: 0.9811\n",
      "Epoch 7/35\n",
      "60000/60000 [==============================] - 4s 71us/step - loss: 0.0332 - accuracy: 0.9888 - val_loss: 0.0644 - val_accuracy: 0.9813\n",
      "Epoch 8/35\n",
      "60000/60000 [==============================] - 5s 82us/step - loss: 0.0295 - accuracy: 0.9901 - val_loss: 0.0656 - val_accuracy: 0.9821\n",
      "Epoch 9/35\n",
      "60000/60000 [==============================] - 5s 91us/step - loss: 0.0298 - accuracy: 0.9900 - val_loss: 0.0597 - val_accuracy: 0.9835\n",
      "Epoch 10/35\n",
      "60000/60000 [==============================] - 5s 82us/step - loss: 0.0255 - accuracy: 0.9918 - val_loss: 0.0659 - val_accuracy: 0.9832\n",
      "Epoch 11/35\n",
      "60000/60000 [==============================] - 6s 99us/step - loss: 0.0209 - accuracy: 0.9930 - val_loss: 0.0776 - val_accuracy: 0.9809\n",
      "Epoch 12/35\n",
      "60000/60000 [==============================] - 6s 92us/step - loss: 0.0209 - accuracy: 0.9928 - val_loss: 0.0675 - val_accuracy: 0.9832\n",
      "Epoch 13/35\n",
      "60000/60000 [==============================] - 5s 78us/step - loss: 0.0224 - accuracy: 0.9923 - val_loss: 0.0682 - val_accuracy: 0.9816\n",
      "Epoch 14/35\n",
      "60000/60000 [==============================] - 4s 67us/step - loss: 0.0192 - accuracy: 0.9935 - val_loss: 0.0667 - val_accuracy: 0.9832\n",
      "Epoch 15/35\n",
      "60000/60000 [==============================] - 4s 74us/step - loss: 0.0187 - accuracy: 0.9935 - val_loss: 0.0655 - val_accuracy: 0.9846\n",
      "Epoch 16/35\n",
      "60000/60000 [==============================] - 4s 67us/step - loss: 0.0167 - accuracy: 0.9946 - val_loss: 0.0689 - val_accuracy: 0.9850\n",
      "Epoch 17/35\n",
      "60000/60000 [==============================] - 4s 64us/step - loss: 0.0169 - accuracy: 0.9944 - val_loss: 0.0708 - val_accuracy: 0.9845\n",
      "Epoch 18/35\n",
      "60000/60000 [==============================] - 4s 64us/step - loss: 0.0149 - accuracy: 0.9950 - val_loss: 0.0884 - val_accuracy: 0.9809\n",
      "Epoch 19/35\n",
      "60000/60000 [==============================] - 4s 64us/step - loss: 0.0166 - accuracy: 0.9947 - val_loss: 0.0852 - val_accuracy: 0.9817\n",
      "Epoch 20/35\n",
      "60000/60000 [==============================] - 4s 65us/step - loss: 0.0175 - accuracy: 0.9941 - val_loss: 0.0912 - val_accuracy: 0.9791\n",
      "Epoch 21/35\n",
      "60000/60000 [==============================] - 4s 66us/step - loss: 0.0151 - accuracy: 0.9950 - val_loss: 0.0793 - val_accuracy: 0.9828\n",
      "Epoch 22/35\n",
      "60000/60000 [==============================] - 4s 65us/step - loss: 0.0153 - accuracy: 0.9948 - val_loss: 0.0832 - val_accuracy: 0.9840\n",
      "Epoch 23/35\n",
      "60000/60000 [==============================] - 5s 79us/step - loss: 0.0149 - accuracy: 0.9952 - val_loss: 0.0761 - val_accuracy: 0.9845\n",
      "Epoch 24/35\n",
      "60000/60000 [==============================] - 4s 67us/step - loss: 0.0127 - accuracy: 0.9958 - val_loss: 0.0749 - val_accuracy: 0.9848\n",
      "Epoch 25/35\n",
      "60000/60000 [==============================] - 4s 68us/step - loss: 0.0123 - accuracy: 0.9962 - val_loss: 0.0910 - val_accuracy: 0.9822\n",
      "Epoch 26/35\n",
      "60000/60000 [==============================] - 4s 68us/step - loss: 0.0142 - accuracy: 0.9955 - val_loss: 0.0868 - val_accuracy: 0.9839\n",
      "Epoch 27/35\n",
      "60000/60000 [==============================] - 4s 69us/step - loss: 0.0131 - accuracy: 0.9957 - val_loss: 0.0719 - val_accuracy: 0.9857\n",
      "Epoch 28/35\n",
      "60000/60000 [==============================] - 5s 79us/step - loss: 0.0113 - accuracy: 0.9964 - val_loss: 0.0909 - val_accuracy: 0.9848\n",
      "Epoch 29/35\n",
      "60000/60000 [==============================] - 4s 75us/step - loss: 0.0114 - accuracy: 0.9964 - val_loss: 0.0909 - val_accuracy: 0.9830\n",
      "Epoch 30/35\n",
      "60000/60000 [==============================] - 5s 76us/step - loss: 0.0128 - accuracy: 0.9961 - val_loss: 0.0947 - val_accuracy: 0.9835\n",
      "Epoch 31/35\n",
      "60000/60000 [==============================] - 4s 67us/step - loss: 0.0134 - accuracy: 0.9961 - val_loss: 0.0873 - val_accuracy: 0.9837\n",
      "Epoch 32/35\n",
      "60000/60000 [==============================] - 4s 66us/step - loss: 0.0098 - accuracy: 0.9971 - val_loss: 0.0958 - val_accuracy: 0.9848\n",
      "Epoch 33/35\n",
      "60000/60000 [==============================] - 4s 69us/step - loss: 0.0130 - accuracy: 0.9961 - val_loss: 0.0869 - val_accuracy: 0.9820\n",
      "Epoch 34/35\n",
      "60000/60000 [==============================] - 4s 72us/step - loss: 0.0090 - accuracy: 0.9971 - val_loss: 0.0911 - val_accuracy: 0.9849\n",
      "Epoch 35/35\n",
      "60000/60000 [==============================] - 4s 65us/step - loss: 0.0132 - accuracy: 0.9960 - val_loss: 0.0829 - val_accuracy: 0.9851\n"
     ]
    }
   ],
   "source": [
    "nepochs = 35\n",
    "model.compile(loss='categorical_crossentropy', metrics=['accuracy'], optimizer='adam')\n",
    "\n",
    "history = model.fit(X_train, y_train,\n",
    "          batch_size=128, epochs=nepochs,\n",
    "          verbose=1,\n",
    "          validation_data=(X_test, y_test))"
   ]
  },
  {
   "cell_type": "code",
   "execution_count": 10,
   "metadata": {},
   "outputs": [
    {
     "data": {
      "text/plain": [
       "<Figure size 432x288 with 0 Axes>"
      ]
     },
     "metadata": {},
     "output_type": "display_data"
    },
    {
     "data": {
      "image/png": "[encoded data removed]",
      "text/plain": [
       "<Figure size 1152x432 with 1 Axes>"
      ]
     },
     "metadata": {
      "needs_background": "light"
     },
     "output_type": "display_data"
    }
   ],
   "source": [
    "plt.clf()\n",
    "train_acc = history.history['accuracy']\n",
    "test_acc = history.history['val_accuracy']\n",
    "\n",
    "plt.figure(figsize=(16,6))\n",
    "plt.plot(range(1,nepochs+1), train_acc, 'b', label='train accuracy',color=\"blue\")\n",
    "plt.plot(range(1,nepochs+1), test_acc, 'b', label='test accuracy',color=\"red\")\n",
    "\n",
    "plt.title('max(test accuracy) = ' + str(round(max(test_acc),3)),fontsize=16)\n",
    "plt.xlabel('Epochs',fontsize=16)\n",
    "plt.ylabel('Accuracy',fontsize=16)\n",
    "plt.grid(True)\n",
    "plt.legend(loc = 'lower right',fontsize=16)\n",
    "\n",
    "plt.show()"
   ]
  },
  {
   "cell_type": "markdown",
   "metadata": {},
   "source": [
    "Let's now classify the images the Neural Network has not seen:"
   ]
  },
  {
   "cell_type": "code",
   "execution_count": 11,
   "metadata": {},
   "outputs": [],
   "source": [
    "y_test_hat = model.predict_classes(X_test)"
   ]
  },
  {
   "cell_type": "code",
   "execution_count": 12,
   "metadata": {},
   "outputs": [
    {
     "data": {
      "image/png": "[encoded data removed]",
      "text/plain": [
       "<Figure size 1080x576 with 18 Axes>"
      ]
     },
     "metadata": {},
     "output_type": "display_data"
    }
   ],
   "source": [
    "fig = plt.figure(figsize=(15,8))\n",
    "for i in range(18):\n",
    "    plt.subplot(3,6,i+1)\n",
    "    plt.tight_layout()\n",
    "    plt.imshow(X_test.reshape((-1,28,28))[i], cmap='gray', interpolation='none')\n",
    "    plt.title(\"Predicted label: {}\".format(y_test_hat[i]),fontsize=16)\n",
    "    plt.xticks([])\n",
    "    plt.yticks([])\n",
    "plt.show()"
   ]
  },
  {
   "cell_type": "markdown",
   "metadata": {},
   "source": [
    "# Problem 1 (20 points)"
   ]
  },
  {
   "cell_type": "markdown",
   "metadata": {},
   "source": [
    "In this problem we will develop a Q-learning algorithm for selecting the best treatment based on \"medical\" images. Each 128x128 image is a vector of 784 features: ${\\bf x}=(x_1,x_2,\\ldots,x_{784})^T$.\n",
    "\n",
    "Please load the observations of features ${\\bf x}(S_t)$, $t=0,1,\\ldots$ ('images' variable), actions $A_t$, $t=0,1,\\ldots$ ('actions' variable), and rewards $R_t$, $t=1,2,\\ldots$ from the 'markov_decision_process.pkl' file. Please notice that in each state $s\\in \\mathcal{S}$, the set of admissible actions is $\\mathcal{A}(s)=\\{0,1,2\\}$. Here, \"0\" states for no treatment and \"1\" and \"2\" are two treatments of different types. We assume that this is a Markov Decision Process, that is, the joint distribution of the next state $S_{t+1}$ and reward $R_{t+1}$ depens on the pair of current state and action $(S_t, A_t)$ only.\n",
    "\n",
    "Please develop a Q-learning algorithm with approximation via a Deep Neural Network (NN). Please use the vector of fetures ${\\bf x}(S_t)$ as an input to the NN. The output of the NN should be a vector of action-values $(\\hat{q}(S_t,0,{\\bf w}),\\hat{q}\\left(S_t,1,{\\bf w}),\\hat{q}(S_t,2,{\\bf w})\\right)^T$. Please feel free to use either feedforward fully connected NN or Convolutional NN.\n",
    "\n",
    "Please \n",
    "- train the NN in mini-batches of size 128, that is, the weights ${\\bf w}$ will be updated every 128 time steps\n",
    "- update the target $R_{t+1}+\\gamma \\max_{ a}\\hat{q}(S_{t+1},a,{\\bf w})$ every 1280 time steps only, that is, not the most recent weights should be used to evaluate this taget  - this usually guarantees a better stability of the algorithm\n",
    "\n",
    "Once the training is finished, please pick 18 images at random and display them together with optimal actions in the titles. "
   ]
  },
  {
   "cell_type": "code",
   "execution_count": 11,
   "metadata": {},
   "outputs": [],
   "source": [
    "with open('markov_decision_process.pkl', 'rb') as f:\n",
    "    images, actions, rewards = pickle.load(f)"
   ]
  },
  {
   "cell_type": "code",
   "execution_count": 12,
   "metadata": {},
   "outputs": [
    {
     "data": {
      "image/png": "[encoded data removed]",
      "text/plain": [
       "<Figure size 1080x576 with 18 Axes>"
      ]
     },
     "metadata": {},
     "output_type": "display_data"
    }
   ],
   "source": [
    "k = 0\n",
    "fig = plt.figure(figsize=(15,8))\n",
    "for t in range(18):\n",
    "    k += 1\n",
    "    plt.subplot(3,6,k)\n",
    "    plt.tight_layout()\n",
    "    plt.imshow(images[t], cmap='gray', interpolation='none')\n",
    "    plt.title(\"$A_{\" + str(t) + \"}=$\"+str(actions[t])+\"\\n$R_{\" + str(t+1) + \"}=$\"+str(round(rewards[t],2)))\n",
    "    plt.xticks([])\n",
    "    plt.yticks([])\n",
    "    \n",
    "plt.show()"
   ]
  },
  {
   "cell_type": "markdown",
   "metadata": {},
   "source": [
    "# Part 1 checks"
   ]
  },
  {
   "cell_type": "code",
   "execution_count": 23,
   "metadata": {},
   "outputs": [],
   "source": [
    "import numpy as np\n",
    "f = lambda x: max(x,0) #relu\n",
    "x1, x2 = 1.3, .7\n",
    "W = np.array([\n",
    "    [-1.2, .1, .5],\n",
    "    [.9, .8, -.3],\n",
    "    [.2, -.8, 1.2]\n",
    "])"
   ]
  },
  {
   "cell_type": "markdown",
   "metadata": {},
   "source": [
    "## a)"
   ]
  },
  {
   "cell_type": "code",
   "execution_count": 27,
   "metadata": {},
   "outputs": [
    {
     "name": "stdout",
     "output_type": "stream",
     "text": [
      "u1: 0\n",
      "u2: 1.73\n",
      "v_hat: 2.2760000000000002\n",
      "epsilon_2: -1.8239999999999998\n"
     ]
    }
   ],
   "source": [
    "\n",
    "# forward pass\n",
    "u1 = f(W[0,0] + W[0,1]*x1 + W[0,2]*x2)\n",
    "print(\"u1:\",u1)\n",
    "u2 = f(W[1,0] + W[1,1]*x1 + W[1,2]*x2)\n",
    "print(\"u2:\",u2)\n",
    "v_hat = f(W[2,0] + W[2,1]*u1 + W[2,2]*u2)\n",
    "print(\"v_hat:\",v_hat)\n",
    "\n",
    "ϵ2 = 2.276 - 4.1\n",
    "print(\"epsilon_2:\",ϵ2)"
   ]
  },
  {
   "cell_type": "markdown",
   "metadata": {},
   "source": [
    "## b)"
   ]
  },
  {
   "cell_type": "code",
   "execution_count": 28,
   "metadata": {},
   "outputs": [
    {
     "name": "stdout",
     "output_type": "stream",
     "text": [
      "e_h1: 0.0\n",
      "e_h2: -3.7866239999999993\n"
     ]
    }
   ],
   "source": [
    "ϵ_h1 = ϵ2 * u1 * W[2,1]\n",
    "print(\"e_h1:\",ϵ_h1)\n",
    "ϵ_h2 = ϵ2 * u2 * W[2,2]\n",
    "print(\"e_h2:\",ϵ_h2)"
   ]
  },
  {
   "cell_type": "code",
   "execution_count": 21,
   "metadata": {},
   "outputs": [
    {
     "data": {
      "text/plain": [
       "0.0"
      ]
     },
     "execution_count": 21,
     "metadata": {},
     "output_type": "execute_result"
    }
   ],
   "source": [
    "ϵ_h1"
   ]
  },
  {
   "cell_type": "markdown",
   "metadata": {},
   "source": [
    "## c)"
   ]
  },
  {
   "cell_type": "code",
   "execution_count": 32,
   "metadata": {},
   "outputs": [
    {
     "name": "stdout",
     "output_type": "stream",
     "text": [
      "loss_wrt_w0: -4.1514240000000004\n",
      "loss_wrt_w1: -0.0\n",
      "loss_wrt_w2: -7.181963520000001\n"
     ]
    }
   ],
   "source": [
    "loss_wrt_w0 = ϵ2 * v_hat * 1\n",
    "print(\"loss_wrt_w0:\",loss_wrt_w0)\n",
    "loss_wrt_w1 = ϵ2 * v_hat * u1\n",
    "print(\"loss_wrt_w1:\",loss_wrt_w1)\n",
    "loss_wrt_w2 = ϵ2 * v_hat * u2\n",
    "print(\"loss_wrt_w2:\",loss_wrt_w2)"
   ]
  },
  {
   "cell_type": "markdown",
   "metadata": {},
   "source": [
    "## d)"
   ]
  },
  {
   "cell_type": "code",
   "execution_count": 36,
   "metadata": {},
   "outputs": [
    {
     "name": "stdout",
     "output_type": "stream",
     "text": [
      "loss_wrt_w01: -0.0\n"
     ]
    }
   ],
   "source": [
    "loss_wrt_w01 = ϵ2 * ϵ_h1 * 1\n",
    "print(\"loss_wrt_w01:\",loss_wrt_w01)"
   ]
  },
  {
   "cell_type": "code",
   "execution_count": 37,
   "metadata": {},
   "outputs": [
    {
     "name": "stdout",
     "output_type": "stream",
     "text": [
      "loss_wrt_w11: -0.0\n"
     ]
    }
   ],
   "source": [
    "loss_wrt_w11 = ϵ2 * ϵ_h1 * x1\n",
    "print(\"loss_wrt_w11:\",loss_wrt_w11)"
   ]
  },
  {
   "cell_type": "code",
   "execution_count": 38,
   "metadata": {},
   "outputs": [
    {
     "name": "stdout",
     "output_type": "stream",
     "text": [
      "loss_wrt_w21: -0.0\n"
     ]
    }
   ],
   "source": [
    "loss_wrt_w21 = ϵ2 * ϵ_h1 * x2\n",
    "print(\"loss_wrt_w21:\",loss_wrt_w21)"
   ]
  },
  {
   "cell_type": "code",
   "execution_count": 39,
   "metadata": {},
   "outputs": [
    {
     "name": "stdout",
     "output_type": "stream",
     "text": [
      "loss_wrt_w02: 6.9068021759999985\n"
     ]
    }
   ],
   "source": [
    "loss_wrt_w02 = ϵ2 * ϵ_h2 * 1\n",
    "print(\"loss_wrt_w02:\",loss_wrt_w02)"
   ]
  },
  {
   "cell_type": "code",
   "execution_count": 40,
   "metadata": {},
   "outputs": [
    {
     "name": "stdout",
     "output_type": "stream",
     "text": [
      "loss_wrt_w12: 8.978842828799998\n"
     ]
    }
   ],
   "source": [
    "loss_wrt_w12 = ϵ2 * ϵ_h2 * x1\n",
    "print(\"loss_wrt_w12:\",loss_wrt_w12)"
   ]
  },
  {
   "cell_type": "code",
   "execution_count": 41,
   "metadata": {},
   "outputs": [
    {
     "name": "stdout",
     "output_type": "stream",
     "text": [
      "loss_wrt_w22: 4.834761523199998\n"
     ]
    }
   ],
   "source": [
    "loss_wrt_w22 = ϵ2 * ϵ_h2 * x2\n",
    "print(\"loss_wrt_w22:\",loss_wrt_w22)"
   ]
  },
  {
   "cell_type": "code",
   "execution_count": 44,
   "metadata": {},
   "outputs": [],
   "source": [
    "w = np.array([i for w in W for i in w])"
   ]
  },
  {
   "cell_type": "code",
   "execution_count": 48,
   "metadata": {},
   "outputs": [
    {
     "name": "stdout",
     "output_type": "stream",
     "text": [
      "[-1.2    0.1    0.5    0.21  -0.098 -0.783  0.615 -0.8    2.018]\n"
     ]
    }
   ],
   "source": [
    "δL = np.array([0,0,0,6.9,8.98, 4.83,-4.15,0,-8.18])\n",
    "α = .1\n",
    "print(w - α*δL)"
   ]
  }
 ],
 "metadata": {
  "anaconda-cloud": {},
  "kernelspec": {
   "display_name": "Python 3",
   "language": "python",
   "name": "python3"
  },
  "language_info": {
   "codemirror_mode": {
    "name": "ipython",
    "version": 3
   },
   "file_extension": ".py",
   "mimetype": "text/x-python",
   "name": "python",
   "nbconvert_exporter": "python",
   "pygments_lexer": "ipython3",
   "version": "3.7.5"
  }
 },
 "nbformat": 4,
 "nbformat_minor": 1
}
